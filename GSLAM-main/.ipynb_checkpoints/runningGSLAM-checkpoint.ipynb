{
 "cells": [
  {
   "cell_type": "code",
   "execution_count": 6,
   "id": "b2e4aa0f-36da-4267-ace5-deb5dabf5068",
   "metadata": {},
   "outputs": [
    {
     "name": "stderr",
     "output_type": "stream",
     "text": [
      "WARNING:absl:Compiled the loaded model, but the compiled metrics have yet to be built. `model.compile_metrics` will be empty until you train or evaluate the model.\n"
     ]
    },
    {
     "name": "stdout",
     "output_type": "stream",
     "text": [
      "[                                                  ] 1%"
     ]
    },
    {
     "ename": "ValueError",
     "evalue": "cannot reshape array of size 230400 into shape (1,64,64,3)",
     "output_type": "error",
     "traceback": [
      "\u001b[0;31m---------------------------------------------------------------------------\u001b[0m",
      "\u001b[0;31mValueError\u001b[0m                                Traceback (most recent call last)",
      "File \u001b[0;32m~/Desktop/AI Project/GSLAM-main/evaluate_all.py:173\u001b[0m\n\u001b[1;32m    169\u001b[0m candidateImages\u001b[38;5;241m=\u001b[39mnp\u001b[38;5;241m.\u001b[39marray(allImages[:\u001b[38;5;241m-\u001b[39mLOOP_MARGIN:LOOP_SEPARATION])\n\u001b[1;32m    171\u001b[0m \u001b[38;5;28;01mif\u001b[39;00m ENABLE_NN:\n\u001b[1;32m    172\u001b[0m     \u001b[38;5;66;03m# Repeat the current image to form a batch of the same size\u001b[39;00m\n\u001b[0;32m--> 173\u001b[0m     curImageRepeated\u001b[38;5;241m=\u001b[39mnp\u001b[38;5;241m.\u001b[39mrepeat(curImage\u001b[38;5;241m.\u001b[39mreshape((\u001b[38;5;241m1\u001b[39m,IMG_HEIGHT,IMG_WIDTH,IMG_NCHAN)),candidateImages\u001b[38;5;241m.\u001b[39mshape[\u001b[38;5;241m0\u001b[39m],axis\u001b[38;5;241m=\u001b[39m\u001b[38;5;241m0\u001b[39m)\n\u001b[1;32m    175\u001b[0m     \u001b[38;5;66;03m# Predict the loops using the neural network\u001b[39;00m\n\u001b[1;32m    176\u001b[0m     tStart\u001b[38;5;241m=\u001b[39mtime()\n",
      "\u001b[0;31mValueError\u001b[0m: cannot reshape array of size 230400 into shape (1,64,64,3)"
     ]
    }
   ],
   "source": [
    "run evaluate_all.py"
   ]
  },
  {
   "cell_type": "code",
   "execution_count": null,
   "id": "5bb02fda-74ae-43e3-9ee8-7688b01e1700",
   "metadata": {},
   "outputs": [],
   "source": []
  },
  {
   "cell_type": "code",
   "execution_count": null,
   "id": "3a709e9c-cf02-49a1-8681-53b6c3967612",
   "metadata": {},
   "outputs": [],
   "source": []
  }
 ],
 "metadata": {
  "kernelspec": {
   "display_name": "Python 3 (ipykernel)",
   "language": "python",
   "name": "python3"
  },
  "language_info": {
   "codemirror_mode": {
    "name": "ipython",
    "version": 3
   },
   "file_extension": ".py",
   "mimetype": "text/x-python",
   "name": "python",
   "nbconvert_exporter": "python",
   "pygments_lexer": "ipython3",
   "version": "3.12.2"
  }
 },
 "nbformat": 4,
 "nbformat_minor": 5
}
